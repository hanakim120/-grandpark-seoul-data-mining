{
 "cells": [
  {
   "cell_type": "markdown",
   "metadata": {},
   "source": [
    "## 목표\n",
    "\n",
    "다음 아래의 모델을 이용하여 4월 동안의 관광객 예측을 한다.\n",
    "\n",
    "A, B, C, D, E (범위 구분하기)\n",
    "\n",
    "**사용한 모델**\n",
    "\n",
    "- Logisic Regression"
   ]
  },
  {
   "cell_type": "markdown",
   "metadata": {},
   "source": [
    "## Data 전처리"
   ]
  },
  {
   "cell_type": "markdown",
   "metadata": {},
   "source": [
    "### 데이터 불러오기"
   ]
  },
  {
   "cell_type": "code",
   "execution_count": 488,
   "metadata": {},
   "outputs": [],
   "source": [
    "import pandas as pd\n",
    "import numpy as np\n",
    "from sklearn.model_selection import train_test_split"
   ]
  },
  {
   "cell_type": "code",
   "execution_count": 522,
   "metadata": {},
   "outputs": [],
   "source": [
    "timeseries_data = pd.read_excel('seoul_merge_clean_monthly_yesapril_new2.xlsx')\n",
    "# test_data = pd.read_excel('seoul_merge_clean_monthly_yesapril.xlsx')\n",
    "# 3월까지의 데이터\n",
    "timeseries_data = timeseries_data.dropna(axis=0)"
   ]
  },
  {
   "cell_type": "code",
   "execution_count": 523,
   "metadata": {},
   "outputs": [
    {
     "data": {
      "text/html": [
       "<div>\n",
       "<style scoped>\n",
       "    .dataframe tbody tr th:only-of-type {\n",
       "        vertical-align: middle;\n",
       "    }\n",
       "\n",
       "    .dataframe tbody tr th {\n",
       "        vertical-align: top;\n",
       "    }\n",
       "\n",
       "    .dataframe thead th {\n",
       "        text-align: right;\n",
       "    }\n",
       "</style>\n",
       "<table border=\"1\" class=\"dataframe\">\n",
       "  <thead>\n",
       "    <tr style=\"text-align: right;\">\n",
       "      <th></th>\n",
       "      <th>Date</th>\n",
       "      <th>Day</th>\n",
       "      <th>ST</th>\n",
       "      <th>rain_mean</th>\n",
       "      <th>temper_mean</th>\n",
       "      <th>event_total</th>\n",
       "      <th>dust</th>\n",
       "      <th>warninglevel</th>\n",
       "      <th>season</th>\n",
       "      <th>ST_level</th>\n",
       "      <th>rain_level</th>\n",
       "      <th>temper_level</th>\n",
       "      <th>monthly_predict</th>\n",
       "      <th>daily_predict</th>\n",
       "    </tr>\n",
       "  </thead>\n",
       "  <tbody>\n",
       "    <tr>\n",
       "      <th>1</th>\n",
       "      <td>2009-01-02</td>\n",
       "      <td>금</td>\n",
       "      <td>2115.100000</td>\n",
       "      <td>0.0</td>\n",
       "      <td>-3.3</td>\n",
       "      <td>1</td>\n",
       "      <td>좋음</td>\n",
       "      <td>없음</td>\n",
       "      <td>겨울</td>\n",
       "      <td>A</td>\n",
       "      <td>안 옴</td>\n",
       "      <td>추움</td>\n",
       "      <td>73966</td>\n",
       "      <td>5857.0</td>\n",
       "    </tr>\n",
       "    <tr>\n",
       "      <th>2</th>\n",
       "      <td>2009-01-03</td>\n",
       "      <td>토</td>\n",
       "      <td>2430.200000</td>\n",
       "      <td>0.0</td>\n",
       "      <td>-1.7</td>\n",
       "      <td>1</td>\n",
       "      <td>좋음</td>\n",
       "      <td>없음</td>\n",
       "      <td>겨울</td>\n",
       "      <td>A</td>\n",
       "      <td>안 옴</td>\n",
       "      <td>추움</td>\n",
       "      <td>73966</td>\n",
       "      <td>3660.0</td>\n",
       "    </tr>\n",
       "    <tr>\n",
       "      <th>3</th>\n",
       "      <td>2009-01-04</td>\n",
       "      <td>일</td>\n",
       "      <td>2109.200000</td>\n",
       "      <td>0.0</td>\n",
       "      <td>-0.2</td>\n",
       "      <td>1</td>\n",
       "      <td>좋음</td>\n",
       "      <td>없음</td>\n",
       "      <td>겨울</td>\n",
       "      <td>A</td>\n",
       "      <td>안 옴</td>\n",
       "      <td>추움</td>\n",
       "      <td>73966</td>\n",
       "      <td>3757.0</td>\n",
       "    </tr>\n",
       "    <tr>\n",
       "      <th>4</th>\n",
       "      <td>2009-01-05</td>\n",
       "      <td>월</td>\n",
       "      <td>2176.666667</td>\n",
       "      <td>0.0</td>\n",
       "      <td>-2.0</td>\n",
       "      <td>1</td>\n",
       "      <td>좋음</td>\n",
       "      <td>없음</td>\n",
       "      <td>겨울</td>\n",
       "      <td>A</td>\n",
       "      <td>안 옴</td>\n",
       "      <td>추움</td>\n",
       "      <td>73966</td>\n",
       "      <td>3342.0</td>\n",
       "    </tr>\n",
       "    <tr>\n",
       "      <th>5</th>\n",
       "      <td>2009-01-06</td>\n",
       "      <td>화</td>\n",
       "      <td>6568.000000</td>\n",
       "      <td>0.0</td>\n",
       "      <td>-2.9</td>\n",
       "      <td>1</td>\n",
       "      <td>좋음</td>\n",
       "      <td>없음</td>\n",
       "      <td>겨울</td>\n",
       "      <td>A</td>\n",
       "      <td>안 옴</td>\n",
       "      <td>추움</td>\n",
       "      <td>73966</td>\n",
       "      <td>3246.0</td>\n",
       "    </tr>\n",
       "  </tbody>\n",
       "</table>\n",
       "</div>"
      ],
      "text/plain": [
       "        Date Day           ST  rain_mean  temper_mean  event_total dust  \\\n",
       "1 2009-01-02   금  2115.100000        0.0         -3.3            1   좋음   \n",
       "2 2009-01-03   토  2430.200000        0.0         -1.7            1   좋음   \n",
       "3 2009-01-04   일  2109.200000        0.0         -0.2            1   좋음   \n",
       "4 2009-01-05   월  2176.666667        0.0         -2.0            1   좋음   \n",
       "5 2009-01-06   화  6568.000000        0.0         -2.9            1   좋음   \n",
       "\n",
       "  warninglevel season ST_level rain_level temper_level  monthly_predict  \\\n",
       "1           없음     겨울        A        안 옴           추움            73966   \n",
       "2           없음     겨울        A        안 옴           추움            73966   \n",
       "3           없음     겨울        A        안 옴           추움            73966   \n",
       "4           없음     겨울        A        안 옴           추움            73966   \n",
       "5           없음     겨울        A        안 옴           추움            73966   \n",
       "\n",
       "   daily_predict  \n",
       "1         5857.0  \n",
       "2         3660.0  \n",
       "3         3757.0  \n",
       "4         3342.0  \n",
       "5         3246.0  "
      ]
     },
     "execution_count": 523,
     "metadata": {},
     "output_type": "execute_result"
    }
   ],
   "source": [
    "timeseries_data.head()"
   ]
  },
  {
   "cell_type": "markdown",
   "metadata": {},
   "source": [
    "### 명목형 변수를 Dummay Variable로 변경\n",
    "\n",
    "> 이유 : 회귀식에 input은 반드시 : 수치형 데이터 (명목형 변수 -> 수치형 변수)\n",
    ">\n",
    "> 항목 : \n",
    "- 'Day'\n",
    "- 'dust'\n",
    "- 'event_total'\n",
    "- 'warninglevel'"
   ]
  },
  {
   "cell_type": "code",
   "execution_count": 524,
   "metadata": {},
   "outputs": [],
   "source": [
    "dummies_Day = pd.get_dummies(timeseries_data['Day'])\n",
    "dummies_dust = pd.get_dummies(timeseries_data['dust'])\n",
    "dummies_warninglevel = pd.get_dummies(timeseries_data['warninglevel'])\n",
    "dummies_season = pd.get_dummies(timeseries_data['season'])"
   ]
  },
  {
   "cell_type": "code",
   "execution_count": 525,
   "metadata": {
    "scrolled": false
   },
   "outputs": [],
   "source": [
    "timeseries_data = timeseries_data.join(dummies_Day.add_prefix('Day_'))\n",
    "timeseries_data = timeseries_data.join(dummies_dust.add_prefix('dust_'))\n",
    "timeseries_data = timeseries_data.join(dummies_warninglevel.add_prefix('warninglevel_'))\n",
    "timeseries_data = timeseries_data.join(dummies_season.add_prefix('season_'))"
   ]
  },
  {
   "cell_type": "code",
   "execution_count": 526,
   "metadata": {
    "scrolled": false
   },
   "outputs": [],
   "source": [
    "re_columnlist = ['Day_월', 'Day_화', 'Day_수', 'Day_목', 'Day_금', 'Day_토', 'Day_일'\n",
    "             ,'dust_초미세먼지', 'dust_미세먼지', 'dust_둘 다 있음', 'dust_좋음'\n",
    "             ,'warninglevel_경보', 'warninglevel_주의보', 'warninglevel_없음'\n",
    "             ,'season_봄', 'season_여름', 'season_가을', 'season_겨울'\n",
    "             ,'event_total'\n",
    "             ,'rain_mean', 'temper_mean', 'daily_predict'\n",
    "             ,'ST_level']"
   ]
  },
  {
   "cell_type": "code",
   "execution_count": 527,
   "metadata": {},
   "outputs": [],
   "source": [
    "timeseries_data = timeseries_data[re_columnlist]"
   ]
  },
  {
   "cell_type": "code",
   "execution_count": 528,
   "metadata": {
    "scrolled": true
   },
   "outputs": [
    {
     "data": {
      "text/html": [
       "<div>\n",
       "<style scoped>\n",
       "    .dataframe tbody tr th:only-of-type {\n",
       "        vertical-align: middle;\n",
       "    }\n",
       "\n",
       "    .dataframe tbody tr th {\n",
       "        vertical-align: top;\n",
       "    }\n",
       "\n",
       "    .dataframe thead th {\n",
       "        text-align: right;\n",
       "    }\n",
       "</style>\n",
       "<table border=\"1\" class=\"dataframe\">\n",
       "  <thead>\n",
       "    <tr style=\"text-align: right;\">\n",
       "      <th></th>\n",
       "      <th>Day_월</th>\n",
       "      <th>Day_화</th>\n",
       "      <th>Day_수</th>\n",
       "      <th>Day_목</th>\n",
       "      <th>Day_금</th>\n",
       "      <th>Day_토</th>\n",
       "      <th>Day_일</th>\n",
       "      <th>dust_초미세먼지</th>\n",
       "      <th>dust_미세먼지</th>\n",
       "      <th>dust_둘 다 있음</th>\n",
       "      <th>...</th>\n",
       "      <th>warninglevel_없음</th>\n",
       "      <th>season_봄</th>\n",
       "      <th>season_여름</th>\n",
       "      <th>season_가을</th>\n",
       "      <th>season_겨울</th>\n",
       "      <th>event_total</th>\n",
       "      <th>rain_mean</th>\n",
       "      <th>temper_mean</th>\n",
       "      <th>daily_predict</th>\n",
       "      <th>ST_level</th>\n",
       "    </tr>\n",
       "  </thead>\n",
       "  <tbody>\n",
       "    <tr>\n",
       "      <th>1</th>\n",
       "      <td>0</td>\n",
       "      <td>0</td>\n",
       "      <td>0</td>\n",
       "      <td>0</td>\n",
       "      <td>1</td>\n",
       "      <td>0</td>\n",
       "      <td>0</td>\n",
       "      <td>0</td>\n",
       "      <td>0</td>\n",
       "      <td>0</td>\n",
       "      <td>...</td>\n",
       "      <td>1</td>\n",
       "      <td>0</td>\n",
       "      <td>0</td>\n",
       "      <td>0</td>\n",
       "      <td>1</td>\n",
       "      <td>1</td>\n",
       "      <td>0.0</td>\n",
       "      <td>-3.3</td>\n",
       "      <td>5857.0</td>\n",
       "      <td>A</td>\n",
       "    </tr>\n",
       "    <tr>\n",
       "      <th>2</th>\n",
       "      <td>0</td>\n",
       "      <td>0</td>\n",
       "      <td>0</td>\n",
       "      <td>0</td>\n",
       "      <td>0</td>\n",
       "      <td>1</td>\n",
       "      <td>0</td>\n",
       "      <td>0</td>\n",
       "      <td>0</td>\n",
       "      <td>0</td>\n",
       "      <td>...</td>\n",
       "      <td>1</td>\n",
       "      <td>0</td>\n",
       "      <td>0</td>\n",
       "      <td>0</td>\n",
       "      <td>1</td>\n",
       "      <td>1</td>\n",
       "      <td>0.0</td>\n",
       "      <td>-1.7</td>\n",
       "      <td>3660.0</td>\n",
       "      <td>A</td>\n",
       "    </tr>\n",
       "    <tr>\n",
       "      <th>3</th>\n",
       "      <td>0</td>\n",
       "      <td>0</td>\n",
       "      <td>0</td>\n",
       "      <td>0</td>\n",
       "      <td>0</td>\n",
       "      <td>0</td>\n",
       "      <td>1</td>\n",
       "      <td>0</td>\n",
       "      <td>0</td>\n",
       "      <td>0</td>\n",
       "      <td>...</td>\n",
       "      <td>1</td>\n",
       "      <td>0</td>\n",
       "      <td>0</td>\n",
       "      <td>0</td>\n",
       "      <td>1</td>\n",
       "      <td>1</td>\n",
       "      <td>0.0</td>\n",
       "      <td>-0.2</td>\n",
       "      <td>3757.0</td>\n",
       "      <td>A</td>\n",
       "    </tr>\n",
       "    <tr>\n",
       "      <th>4</th>\n",
       "      <td>1</td>\n",
       "      <td>0</td>\n",
       "      <td>0</td>\n",
       "      <td>0</td>\n",
       "      <td>0</td>\n",
       "      <td>0</td>\n",
       "      <td>0</td>\n",
       "      <td>0</td>\n",
       "      <td>0</td>\n",
       "      <td>0</td>\n",
       "      <td>...</td>\n",
       "      <td>1</td>\n",
       "      <td>0</td>\n",
       "      <td>0</td>\n",
       "      <td>0</td>\n",
       "      <td>1</td>\n",
       "      <td>1</td>\n",
       "      <td>0.0</td>\n",
       "      <td>-2.0</td>\n",
       "      <td>3342.0</td>\n",
       "      <td>A</td>\n",
       "    </tr>\n",
       "    <tr>\n",
       "      <th>5</th>\n",
       "      <td>0</td>\n",
       "      <td>1</td>\n",
       "      <td>0</td>\n",
       "      <td>0</td>\n",
       "      <td>0</td>\n",
       "      <td>0</td>\n",
       "      <td>0</td>\n",
       "      <td>0</td>\n",
       "      <td>0</td>\n",
       "      <td>0</td>\n",
       "      <td>...</td>\n",
       "      <td>1</td>\n",
       "      <td>0</td>\n",
       "      <td>0</td>\n",
       "      <td>0</td>\n",
       "      <td>1</td>\n",
       "      <td>1</td>\n",
       "      <td>0.0</td>\n",
       "      <td>-2.9</td>\n",
       "      <td>3246.0</td>\n",
       "      <td>A</td>\n",
       "    </tr>\n",
       "  </tbody>\n",
       "</table>\n",
       "<p>5 rows × 23 columns</p>\n",
       "</div>"
      ],
      "text/plain": [
       "   Day_월  Day_화  Day_수  Day_목  Day_금  Day_토  Day_일  dust_초미세먼지  dust_미세먼지  \\\n",
       "1      0      0      0      0      1      0      0           0          0   \n",
       "2      0      0      0      0      0      1      0           0          0   \n",
       "3      0      0      0      0      0      0      1           0          0   \n",
       "4      1      0      0      0      0      0      0           0          0   \n",
       "5      0      1      0      0      0      0      0           0          0   \n",
       "\n",
       "   dust_둘 다 있음  ...  warninglevel_없음  season_봄  season_여름  season_가을  \\\n",
       "1            0  ...                1         0          0          0   \n",
       "2            0  ...                1         0          0          0   \n",
       "3            0  ...                1         0          0          0   \n",
       "4            0  ...                1         0          0          0   \n",
       "5            0  ...                1         0          0          0   \n",
       "\n",
       "   season_겨울  event_total  rain_mean  temper_mean  daily_predict  ST_level  \n",
       "1          1            1        0.0         -3.3         5857.0         A  \n",
       "2          1            1        0.0         -1.7         3660.0         A  \n",
       "3          1            1        0.0         -0.2         3757.0         A  \n",
       "4          1            1        0.0         -2.0         3342.0         A  \n",
       "5          1            1        0.0         -2.9         3246.0         A  \n",
       "\n",
       "[5 rows x 23 columns]"
      ]
     },
     "execution_count": 528,
     "metadata": {},
     "output_type": "execute_result"
    }
   ],
   "source": [
    "timeseries_data.head()"
   ]
  },
  {
   "cell_type": "markdown",
   "metadata": {},
   "source": [
    "### Train/Test Set 7:3으로 나누기"
   ]
  },
  {
   "cell_type": "code",
   "execution_count": 533,
   "metadata": {},
   "outputs": [],
   "source": [
    "train_test_timeseries_data = timeseries_data[timeseries_data.index < 3742]\n",
    "month4_timeseries_data = timeseries_data[timeseries_data.index >= 3742]"
   ]
  },
  {
   "cell_type": "code",
   "execution_count": 534,
   "metadata": {},
   "outputs": [],
   "source": [
    "X = train_test_timeseries_data[['Day_월', 'Day_화', 'Day_수', 'Day_목', 'Day_금', 'Day_토', 'Day_일'\n",
    "             ,'dust_초미세먼지', 'dust_미세먼지', 'dust_둘 다 있음', 'dust_좋음'\n",
    "             ,'warninglevel_경보', 'warninglevel_주의보', 'warninglevel_없음'\n",
    "             ,'season_봄', 'season_여름', 'season_가을', 'season_겨울'\n",
    "             ,'event_total'\n",
    "             ,'rain_mean', 'temper_mean', 'daily_predict']]\n",
    "Y = train_test_timeseries_data['ST_level']"
   ]
  },
  {
   "cell_type": "code",
   "execution_count": 535,
   "metadata": {},
   "outputs": [],
   "source": [
    "X_train, X_test, Y_train, Y_test = train_test_split(X.values, Y.values, test_size=0.30)"
   ]
  },
  {
   "cell_type": "code",
   "execution_count": 536,
   "metadata": {
    "scrolled": true
   },
   "outputs": [
    {
     "name": "stdout",
     "output_type": "stream",
     "text": [
      "X_train의 크기 (2618, 22)\n",
      "Y_train의 크기 (2618,)\n",
      "X_test의 크기 (1123, 22)\n",
      "Y_test의 크기 (1123,)\n"
     ]
    }
   ],
   "source": [
    "print('X_train의 크기',np.shape(X_train))\n",
    "print('Y_train의 크기',np.shape(Y_train))\n",
    "print('X_test의 크기',np.shape(X_test))\n",
    "print('Y_test의 크기',np.shape(Y_test))"
   ]
  },
  {
   "cell_type": "markdown",
   "metadata": {},
   "source": [
    "## Logist Regression 모델 설계"
   ]
  },
  {
   "cell_type": "code",
   "execution_count": 537,
   "metadata": {},
   "outputs": [],
   "source": [
    "from sklearn.linear_model import LogisticRegression"
   ]
  },
  {
   "cell_type": "code",
   "execution_count": 538,
   "metadata": {},
   "outputs": [
    {
     "name": "stderr",
     "output_type": "stream",
     "text": [
      "C:\\Users\\lhj91\\Anaconda3\\lib\\site-packages\\sklearn\\linear_model\\logistic.py:432: FutureWarning: Default solver will be changed to 'lbfgs' in 0.22. Specify a solver to silence this warning.\n",
      "  FutureWarning)\n",
      "C:\\Users\\lhj91\\Anaconda3\\lib\\site-packages\\sklearn\\linear_model\\logistic.py:469: FutureWarning: Default multi_class will be changed to 'auto' in 0.22. Specify the multi_class option to silence this warning.\n",
      "  \"this warning.\", FutureWarning)\n"
     ]
    },
    {
     "data": {
      "text/plain": [
       "LogisticRegression(C=1.0, class_weight=None, dual=False, fit_intercept=True,\n",
       "                   intercept_scaling=1, l1_ratio=None, max_iter=100,\n",
       "                   multi_class='warn', n_jobs=None, penalty='l2',\n",
       "                   random_state=None, solver='warn', tol=0.0001, verbose=0,\n",
       "                   warm_start=False)"
      ]
     },
     "execution_count": 538,
     "metadata": {},
     "output_type": "execute_result"
    }
   ],
   "source": [
    "LRC = LogisticRegression()\n",
    "LRC.fit(X_train, Y_train)"
   ]
  },
  {
   "cell_type": "markdown",
   "metadata": {},
   "source": [
    "### 모델 평가(Logistic Regression)"
   ]
  },
  {
   "cell_type": "code",
   "execution_count": 539,
   "metadata": {},
   "outputs": [],
   "source": [
    "predicted = LRC.predict(X_test)"
   ]
  },
  {
   "cell_type": "code",
   "execution_count": 540,
   "metadata": {
    "scrolled": true
   },
   "outputs": [
    {
     "name": "stdout",
     "output_type": "stream",
     "text": [
      "Logistic Regression test file accuracy:0.7693677649154052\n"
     ]
    }
   ],
   "source": [
    "accuracy = LRC.score(X_test, Y_test)\n",
    "print(\"Logistic Regression test file accuracy:\" + str(accuracy))"
   ]
  },
  {
   "cell_type": "markdown",
   "metadata": {},
   "source": [
    "### 4월 데이터 예측"
   ]
  },
  {
   "cell_type": "code",
   "execution_count": 542,
   "metadata": {},
   "outputs": [],
   "source": [
    "month4_X = month4_timeseries_data[['Day_월', 'Day_화', 'Day_수', 'Day_목', 'Day_금', 'Day_토', 'Day_일'\n",
    "                     ,'dust_초미세먼지', 'dust_미세먼지', 'dust_둘 다 있음', 'dust_좋음'\n",
    "                     ,'warninglevel_경보', 'warninglevel_주의보', 'warninglevel_없음'\n",
    "                     ,'season_봄', 'season_여름', 'season_가을', 'season_겨울'\n",
    "                     ,'event_total'\n",
    "                     ,'rain_mean', 'temper_mean', 'daily_predict']]\n",
    "\n",
    "month4_Y = month4_timeseries_data['ST_level']"
   ]
  },
  {
   "cell_type": "code",
   "execution_count": 544,
   "metadata": {},
   "outputs": [
    {
     "name": "stdout",
     "output_type": "stream",
     "text": [
      "Logistic Regression test file accuracy:0.6666666666666666\n"
     ]
    }
   ],
   "source": [
    "predicted = LRC.predict(month4_X)\n",
    "\n",
    "accuracy = LRC.score(month4_X, month4_Y)\n",
    "print(\"Logistic Regression test file accuracy:\" + str(accuracy))"
   ]
  },
  {
   "cell_type": "markdown",
   "metadata": {},
   "source": [
    "문제점 : Train / Test를 구분하여 Logistic Regression 모델링을 만든 경우에는 78%이지만, 실제로 새로운 데이터를(4월) 만났을 때 모델이 잘 맞지 않음, \n",
    "\n",
    "해결 방안 : 보다 의미있는 변수를 찾아야 할것으로 판단 및 더 많은 데이터 확보하여 학습 필요"
   ]
  }
 ],
 "metadata": {
  "kernelspec": {
   "display_name": "Python 3",
   "language": "python",
   "name": "python3"
  },
  "language_info": {
   "codemirror_mode": {
    "name": "ipython",
    "version": 3
   },
   "file_extension": ".py",
   "mimetype": "text/x-python",
   "name": "python",
   "nbconvert_exporter": "python",
   "pygments_lexer": "ipython3",
   "version": "3.7.3"
  },
  "toc": {
   "base_numbering": 1,
   "nav_menu": {},
   "number_sections": true,
   "sideBar": true,
   "skip_h1_title": false,
   "title_cell": "Table of Contents",
   "title_sidebar": "Contents",
   "toc_cell": false,
   "toc_position": {},
   "toc_section_display": true,
   "toc_window_display": false
  }
 },
 "nbformat": 4,
 "nbformat_minor": 2
}
